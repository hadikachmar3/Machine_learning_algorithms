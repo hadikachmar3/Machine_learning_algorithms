{
 "cells": [
  {
   "cell_type": "markdown",
   "metadata": {},
   "source": [
    "# TP SVM classification\n",
    "Diane Lingrand (diane.lingrand@univ-cotedazur)\n",
    "\n",
    "Université Nice Côte d'Azur "
   ]
  },
  {
   "cell_type": "markdown",
   "metadata": {},
   "source": [
    "Documentation: https://scikit-learn.org/stable/modules/generated/sklearn.svm.SVC.html"
   ]
  },
  {
   "cell_type": "code",
   "execution_count": 1,
   "metadata": {
    "ExecuteTime": {
     "end_time": "2021-10-26T13:54:05.457166Z",
     "start_time": "2021-10-26T13:54:03.534997Z"
    }
   },
   "outputs": [],
   "source": [
    "#necessary imports\n",
    "import time\n",
    "import matplotlib.pyplot as plt\n",
    "import numpy as np\n",
    "from sklearn import svm\n",
    "from sklearn.metrics import confusion_matrix, plot_confusion_matrix, f1_score"
   ]
  },
  {
   "cell_type": "markdown",
   "metadata": {},
   "source": [
    "## dataset: Iris"
   ]
  },
  {
   "cell_type": "code",
   "execution_count": 2,
   "metadata": {
    "ExecuteTime": {
     "end_time": "2021-10-26T13:54:11.539838Z",
     "start_time": "2021-10-26T13:54:11.329807Z"
    }
   },
   "outputs": [],
   "source": [
    "# loading the dataset\n",
    "from sklearn import datasets\n",
    "iris = datasets.load_iris()\n",
    "X = iris.data\n",
    "y = iris.target"
   ]
  },
  {
   "cell_type": "code",
   "execution_count": 3,
   "metadata": {
    "ExecuteTime": {
     "end_time": "2021-10-26T13:54:12.234953Z",
     "start_time": "2021-10-26T13:54:12.224284Z"
    }
   },
   "outputs": [],
   "source": [
    "# split into train and test datasets\n",
    "from sklearn.model_selection import train_test_split\n",
    "X_train, X_test, y_train, y_test = train_test_split(X, y, test_size=0.4)"
   ]
  },
  {
   "cell_type": "code",
   "execution_count": 4,
   "metadata": {
    "ExecuteTime": {
     "end_time": "2021-10-26T13:54:13.373253Z",
     "start_time": "2021-10-26T13:54:13.365304Z"
    }
   },
   "outputs": [
    {
     "name": "stdout",
     "output_type": "stream",
     "text": [
      "train:  [2 2 2 0 0 0 0 0 2 1 1 0 2 0 1 0 2 2 2 0 0 2 1 1 1 0 1 0 0 0 2 0 0 0 1 1 2\n",
      " 2 0 1 0 1 0 2 2 2 2 0 1 1 2 0 2 1 0 2 2 2 0 2 2 0 0 2 1 1 0 1 2 0 2 1 1 0\n",
      " 0 1 0 0 1 2 1 2 1 0 0 1 0 2 2 2]\n",
      "test:  [1 0 0 2 1 0 2 1 2 2 0 1 2 0 2 1 1 0 0 1 1 1 1 2 2 1 0 1 0 2 2 0 2 0 0 0 1\n",
      " 1 1 2 1 0 2 2 1 1 1 1 2 2 1 1 1 1 2 1 2 1 2 0]\n"
     ]
    }
   ],
   "source": [
    "print(\"train: \", y_train)\n",
    "print(\"test: \", y_test)"
   ]
  },
  {
   "cell_type": "markdown",
   "metadata": {},
   "source": [
    "### classification of only 2 classes"
   ]
  },
  {
   "cell_type": "code",
   "execution_count": 5,
   "metadata": {
    "ExecuteTime": {
     "end_time": "2021-10-26T13:54:18.691372Z",
     "start_time": "2021-10-26T13:54:18.684880Z"
    }
   },
   "outputs": [],
   "source": [
    "# we choose to remove class with label 2 (Iris Virginica)\n",
    "X_trainBinaire = X_train[y_train!=2]\n",
    "y_trainBinaire = y_train[y_train!=2]\n",
    "X_testBinaire = X_test[y_test!=2]\n",
    "y_testBinaire = y_test[y_test!=2]\n"
   ]
  },
  {
   "cell_type": "code",
   "execution_count": 6,
   "metadata": {
    "ExecuteTime": {
     "end_time": "2021-10-26T13:54:19.564843Z",
     "start_time": "2021-10-26T13:54:19.556572Z"
    }
   },
   "outputs": [
    {
     "name": "stdout",
     "output_type": "stream",
     "text": [
      "train:  [0 0 0 0 0 1 1 0 0 1 0 0 0 1 1 1 0 1 0 0 0 0 0 0 1 1 0 1 0 1 0 0 1 1 0 1 0\n",
      " 0 0 0 1 1 0 1 0 1 1 0 0 1 0 0 1 1 1 0 0 1 0]\n",
      "test:  [1 0 0 1 0 1 0 1 0 1 1 0 0 1 1 1 1 1 0 1 0 0 0 0 0 1 1 1 1 0 1 1 1 1 1 1 1\n",
      " 1 1 1 0]\n"
     ]
    }
   ],
   "source": [
    "# verification that we have binary labels for only 2 classes\n",
    "print(\"train: \", y_trainBinaire)\n",
    "print(\"test: \", y_testBinaire)"
   ]
  },
  {
   "cell_type": "code",
   "execution_count": 7,
   "metadata": {
    "ExecuteTime": {
     "end_time": "2021-10-26T13:54:24.121365Z",
     "start_time": "2021-10-26T13:54:24.112758Z"
    }
   },
   "outputs": [
    {
     "name": "stdout",
     "output_type": "stream",
     "text": [
      "learning done in 0.00 seconds\n"
     ]
    }
   ],
   "source": [
    "#default constructor\n",
    "mySvcBin = svm.SVC(kernel='linear')\n",
    "#learning\n",
    "time_start = time.perf_counter()\n",
    "mySvcBin.fit(X_trainBinaire,y_trainBinaire)\n",
    "time_elapsed = (time.perf_counter()-time_start)\n",
    "print(\"learning done in %.2f seconds\" %(time_elapsed))"
   ]
  },
  {
   "cell_type": "code",
   "execution_count": 8,
   "metadata": {
    "ExecuteTime": {
     "end_time": "2021-10-26T14:05:40.042241Z",
     "start_time": "2021-10-26T14:05:39.912220Z"
    }
   },
   "outputs": [
    {
     "name": "stdout",
     "output_type": "stream",
     "text": [
      "F1 score :  1.0\n"
     ]
    },
    {
     "data": {
      "image/png": "[encoded data removed]",
      "text/plain": [
       "<Figure size 432x288 with 2 Axes>"
      ]
     },
     "metadata": {
      "needs_background": "light"
     },
     "output_type": "display_data"
    }
   ],
   "source": [
    "#test performances\n",
    "y_predBinaire = mySvcBin.predict(X_testBinaire)\n",
    "\n",
    "disp = plot_confusion_matrix(mySvcBin, X_testBinaire, y_testBinaire,\n",
    "                                 display_labels=list(iris.target_names)[0:2],\n",
    "                                 cmap=plt.cm.Blues,\n",
    "                                 normalize=None)\n",
    "disp.ax_.set_title('Confusion matrix')\n",
    "print(\"F1 score : \", f1_score(y_predBinaire,y_testBinaire))"
   ]
  },
  {
   "cell_type": "markdown",
   "metadata": {},
   "source": [
    "### classification of all classes"
   ]
  },
  {
   "cell_type": "code",
   "execution_count": 9,
   "metadata": {
    "ExecuteTime": {
     "end_time": "2021-10-26T13:58:24.056845Z",
     "start_time": "2021-10-26T13:58:24.047476Z"
    }
   },
   "outputs": [
    {
     "name": "stdout",
     "output_type": "stream",
     "text": [
      "learning done in 0.00 seconds\n"
     ]
    }
   ],
   "source": [
    "#default constructor\n",
    "mySvc = svm.SVC(kernel='linear', C=4,decision_function_shape='ovo')\n",
    "#learning\n",
    "time_start = time.perf_counter()\n",
    "mySvc.fit(X_train,y_train)\n",
    "time_elapsed = (time.perf_counter()-time_start)\n",
    "print(\"learning done in %.2f seconds\" %(time_elapsed))\n",
    "# </div><i class=\"fa fa-lightbulb-o \"></i>"
   ]
  },
  {
   "cell_type": "code",
   "execution_count": 10,
   "metadata": {
    "ExecuteTime": {
     "end_time": "2021-10-26T13:58:25.968568Z",
     "start_time": "2021-10-26T13:58:25.822286Z"
    }
   },
   "outputs": [
    {
     "name": "stdout",
     "output_type": "stream",
     "text": [
      "F1 score :  [1.   0.96 0.95]\n"
     ]
    },
    {
     "data": {
      "image/png": "[encoded data removed]",
      "text/plain": [
       "<Figure size 432x288 with 2 Axes>"
      ]
     },
     "metadata": {
      "needs_background": "light"
     },
     "output_type": "display_data"
    }
   ],
   "source": [
    "#test performances\n",
    "y_pred = mySvc.predict(X_test)\n",
    "\n",
    "disp = plot_confusion_matrix(mySvc, X_test, y_test,\n",
    "                                 display_labels=list(iris.target_names),\n",
    "                                 cmap=plt.cm.Blues,\n",
    "                                 normalize=None)\n",
    "disp.ax_.set_title('Confusion matrix')\n",
    "print(\"F1 score : \", f1_score(y_pred,y_test,average=None))"
   ]
  },
  {
   "cell_type": "markdown",
   "metadata": {},
   "source": [
    "Can we do it better? Try other kernels, other hyper-parameters (C, ...)"
   ]
  },
  {
   "cell_type": "markdown",
   "metadata": {},
   "source": [
    "</div>\n",
    "    <p color= 'red'>\n",
    "      <i class=\"fa fa-lightbulb-o \"></i>\n",
    "    .\n",
    "    </p>\n",
    "</div>"
   ]
  },
  {
   "cell_type": "markdown",
   "metadata": {},
   "source": [
    "### My trials"
   ]
  },
  {
   "cell_type": "markdown",
   "metadata": {},
   "source": [
    "Try other kernels, other hyper-parameters (C, ...), 'ovo' or 'ovr' for the multiclass problem."
   ]
  },
  {
   "cell_type": "code",
   "execution_count": 11,
   "metadata": {},
   "outputs": [],
   "source": [
    "# sigmoid linear rbf poly guassian "
   ]
  },
  {
   "cell_type": "code",
   "execution_count": null,
   "metadata": {},
   "outputs": [],
   "source": []
  },
  {
   "cell_type": "code",
   "execution_count": null,
   "metadata": {},
   "outputs": [],
   "source": []
  },
  {
   "cell_type": "code",
   "execution_count": 12,
   "metadata": {},
   "outputs": [
    {
     "name": "stdout",
     "output_type": "stream",
     "text": [
      "learning done in 0.00 seconds\n",
      "F1 score :  [0.9375     0.93877551 0.97435897]\n"
     ]
    },
    {
     "data": {
      "image/png": "[encoded data removed]",
      "text/plain": [
       "<Figure size 432x288 with 2 Axes>"
      ]
     },
     "metadata": {
      "needs_background": "light"
     },
     "output_type": "display_data"
    }
   ],
   "source": [
    "## play here\n",
    "# ovo and ovr are giving the same results\n",
    "#default constructor\n",
    "mySvc = svm.SVC(kernel='poly', C=0.01,decision_function_shape='ovo')\n",
    "#learning\n",
    "time_start = time.perf_counter()\n",
    "mySvc.fit(X_train,y_train)\n",
    "time_elapsed = (time.perf_counter()-time_start)\n",
    "print(\"learning done in %.2f seconds\" %(time_elapsed))\n",
    "# </div><i class=\"fa fa-lightbulb-o \"></i>\n",
    "\n",
    "###\n",
    "#test performances\n",
    "y_pred = mySvc.predict(X_test)\n",
    "\n",
    "disp = plot_confusion_matrix(mySvc, X_test, y_test,\n",
    "                                 display_labels=list(iris.target_names),\n",
    "                                 cmap=plt.cm.Blues,\n",
    "                                 normalize=None)\n",
    "disp.ax_.set_title('Confusion matrix')\n",
    "print(\"F1 score : \", f1_score(y_pred,y_test,average=None))"
   ]
  },
  {
   "cell_type": "code",
   "execution_count": 13,
   "metadata": {},
   "outputs": [
    {
     "name": "stdout",
     "output_type": "stream",
     "text": [
      "learning done in 0.00 seconds\n",
      "F1 score :  [1.         0.14285714 0.61290323]\n"
     ]
    },
    {
     "data": {
      "image/png": "[encoded data removed]",
      "text/plain": [
       "<Figure size 432x288 with 2 Axes>"
      ]
     },
     "metadata": {
      "needs_background": "light"
     },
     "output_type": "display_data"
    }
   ],
   "source": [
    "## play here\n",
    "# ovo and ovr are giving the same results\n",
    "#default constructor\n",
    "mySvc = svm.SVC(kernel='linear', C=0.01,decision_function_shape='ovo')\n",
    "#learning\n",
    "time_start = time.perf_counter()\n",
    "mySvc.fit(X_train,y_train)\n",
    "time_elapsed = (time.perf_counter()-time_start)\n",
    "print(\"learning done in %.2f seconds\" %(time_elapsed))\n",
    "# </div><i class=\"fa fa-lightbulb-o \"></i>\n",
    "\n",
    "###\n",
    "#test performances\n",
    "y_pred = mySvc.predict(X_test)\n",
    "\n",
    "disp = plot_confusion_matrix(mySvc, X_test, y_test,\n",
    "                                 display_labels=list(iris.target_names),\n",
    "                                 cmap=plt.cm.Blues,\n",
    "                                 normalize=None)\n",
    "disp.ax_.set_title('Confusion matrix')\n",
    "print(\"F1 score : \", f1_score(y_pred,y_test,average=None))"
   ]
  },
  {
   "cell_type": "code",
   "execution_count": 14,
   "metadata": {},
   "outputs": [
    {
     "name": "stdout",
     "output_type": "stream",
     "text": [
      "learning done in 0.00 seconds\n",
      "F1 score :  [1.   0.96 0.95]\n"
     ]
    },
    {
     "data": {
      "image/png": "[encoded data removed]",
      "text/plain": [
       "<Figure size 432x288 with 2 Axes>"
      ]
     },
     "metadata": {
      "needs_background": "light"
     },
     "output_type": "display_data"
    }
   ],
   "source": [
    "## play here\n",
    "#default constructor\n",
    "mySvc = svm.SVC(kernel='linear', C=4,decision_function_shape='ovo')\n",
    "#learning\n",
    "time_start = time.perf_counter()\n",
    "mySvc.fit(X_train,y_train)\n",
    "time_elapsed = (time.perf_counter()-time_start)\n",
    "print(\"learning done in %.2f seconds\" %(time_elapsed))\n",
    "# </div><i class=\"fa fa-lightbulb-o \"></i>\n",
    "\n",
    "###\n",
    "#test performances\n",
    "y_pred = mySvc.predict(X_test)\n",
    "\n",
    "disp = plot_confusion_matrix(mySvc, X_test, y_test,\n",
    "                                 display_labels=list(iris.target_names),\n",
    "                                 cmap=plt.cm.Blues,\n",
    "                                 normalize=None)\n",
    "disp.ax_.set_title('Confusion matrix')\n",
    "print(\"F1 score : \", f1_score(y_pred,y_test,average=None))"
   ]
  },
  {
   "cell_type": "code",
   "execution_count": 15,
   "metadata": {},
   "outputs": [
    {
     "name": "stdout",
     "output_type": "stream",
     "text": [
      "learning done in 0.00 seconds\n",
      "F1 score :  [1.         0.14285714 0.61290323]\n"
     ]
    },
    {
     "data": {
      "image/png": "[encoded data removed]",
      "text/plain": [
       "<Figure size 432x288 with 2 Axes>"
      ]
     },
     "metadata": {
      "needs_background": "light"
     },
     "output_type": "display_data"
    }
   ],
   "source": [
    "## play here\n",
    "\n",
    "mySvc = svm.SVC(kernel='linear', C=0.01,decision_function_shape='ovo')\n",
    "#learning\n",
    "time_start = time.perf_counter()\n",
    "mySvc.fit(X_train,y_train)\n",
    "time_elapsed = (time.perf_counter()-time_start)\n",
    "print(\"learning done in %.2f seconds\" %(time_elapsed))\n",
    "# </div><i class=\"fa fa-lightbulb-o \"></i>\n",
    "\n",
    "###\n",
    "#test performances\n",
    "y_pred = mySvc.predict(X_test)\n",
    "\n",
    "disp = plot_confusion_matrix(mySvc, X_test, y_test,\n",
    "                                 display_labels=list(iris.target_names),\n",
    "                                 cmap=plt.cm.Blues,\n",
    "                                 normalize=None)\n",
    "disp.ax_.set_title('Confusion matrix')\n",
    "print(\"F1 score : \", f1_score(y_pred,y_test,average=None))"
   ]
  },
  {
   "cell_type": "code",
   "execution_count": 16,
   "metadata": {},
   "outputs": [
    {
     "name": "stdout",
     "output_type": "stream",
     "text": [
      "learning done in 0.00 seconds\n",
      "F1 score :  [1.   0.96 0.95]\n"
     ]
    },
    {
     "data": {
      "image/png": "[encoded data removed]",
      "text/plain": [
       "<Figure size 432x288 with 2 Axes>"
      ]
     },
     "metadata": {
      "needs_background": "light"
     },
     "output_type": "display_data"
    }
   ],
   "source": [
    "## play here\n",
    "\n",
    "mySvc = svm.SVC(kernel='linear', C=1,decision_function_shape='ovr')\n",
    "#learning\n",
    "time_start = time.perf_counter()\n",
    "mySvc.fit(X_train,y_train)\n",
    "time_elapsed = (time.perf_counter()-time_start)\n",
    "print(\"learning done in %.2f seconds\" %(time_elapsed))\n",
    "# </div><i class=\"fa fa-lightbulb-o \"></i>\n",
    "\n",
    "###\n",
    "#test performances\n",
    "y_pred = mySvc.predict(X_test)\n",
    "\n",
    "disp = plot_confusion_matrix(mySvc, X_test, y_test,\n",
    "                                 display_labels=list(iris.target_names),\n",
    "                                 cmap=plt.cm.Blues,\n",
    "                                 normalize=None)\n",
    "disp.ax_.set_title('Confusion matrix')\n",
    "print(\"F1 score : \", f1_score(y_pred,y_test,average=None))"
   ]
  },
  {
   "cell_type": "markdown",
   "metadata": {},
   "source": [
    "## dataset: MNIST"
   ]
  },
  {
   "cell_type": "code",
   "execution_count": 17,
   "metadata": {
    "ExecuteTime": {
     "end_time": "2021-10-26T14:02:40.444449Z",
     "start_time": "2021-10-26T14:02:40.440580Z"
    }
   },
   "outputs": [],
   "source": [
    "#necessary imports\n",
    "import time\n",
    "import matplotlib.pyplot as plt\n",
    "import numpy as np\n",
    "from sklearn.linear_model import LogisticRegression\n",
    "from sklearn.metrics import confusion_matrix, plot_confusion_matrix, f1_score"
   ]
  },
  {
   "cell_type": "code",
   "execution_count": 18,
   "metadata": {
    "ExecuteTime": {
     "end_time": "2021-10-26T14:03:02.910152Z",
     "start_time": "2021-10-26T14:03:02.250234Z"
    }
   },
   "outputs": [],
   "source": [
    "# reading the dataset\n",
    "from tensorflow.keras.datasets import mnist\n",
    "(x_train, y_train), (x_test, y_test) = mnist.load_data()\n",
    "x_train = x_train/255.0\n",
    "x_test = x_test/255.0"
   ]
  },
  {
   "cell_type": "code",
   "execution_count": 19,
   "metadata": {
    "ExecuteTime": {
     "end_time": "2021-10-26T14:03:05.475095Z",
     "start_time": "2021-10-26T14:03:05.356867Z"
    }
   },
   "outputs": [
    {
     "data": {
      "image/png": "[encoded data removed]",
      "text/plain": [
       "<Figure size 432x288 with 1 Axes>"
      ]
     },
     "metadata": {
      "needs_background": "light"
     },
     "output_type": "display_data"
    },
    {
     "name": "stdout",
     "output_type": "stream",
     "text": [
      "5\n"
     ]
    }
   ],
   "source": [
    "#display one of the pictures (the 11th in this code)\n",
    "import matplotlib.pyplot as plt\n",
    "i = 11 #index of the image: change it in order to display other images\n",
    "plt.imshow(x_train[i],aspect=\"auto\",cmap='gray')\n",
    "plt.show()\n",
    "print(y_train[i])"
   ]
  },
  {
   "cell_type": "code",
   "execution_count": 20,
   "metadata": {},
   "outputs": [],
   "source": [
    "# case of binary classification: we choose coats and bags\n",
    "\n",
    "# you can change the classes\n",
    "class1 = 4 #negative class 'coats'\n",
    "class2 = 8 #positive class 'bags'\n",
    "nameClass1 = '4'\n",
    "nameClass2 = '8'\n",
    "mesClassesTrain = (y_train==class1)|(y_train==class2)\n",
    "mesClassesTest = (y_test==class1)|(y_test==class2)\n",
    "\n",
    "## TRAIN\n",
    "x_trainBinaire = np.array(x_train[mesClassesTrain,:])\n",
    "y_trainBinaire = np.array((y_train[mesClassesTrain]-class1)/(class2-class1))\n",
    "\n",
    "## TEST\n",
    "x_testBinaire = np.array(x_test[mesClassesTest,:])\n",
    "y_testBinaire = np.array((y_test[mesClassesTest]-class1)/(class2-class1))"
   ]
  },
  {
   "cell_type": "code",
   "execution_count": 21,
   "metadata": {},
   "outputs": [],
   "source": [
    "# reshaping the data (a 2d image is transformed to a 1d array)\n",
    "#train\n",
    "n = x_trainBinaire.shape[0]\n",
    "x_trainBinaireLin = x_trainBinaire.reshape(n,-1)\n",
    "# y_trainBinaireLin = y_trainBinaire.reshape(n,-1)\n",
    "#test\n",
    "n = x_testBinaire.shape[0]\n",
    "x_testBinaireLin = x_testBinaire.reshape(n,-1)"
   ]
  },
  {
   "cell_type": "code",
   "execution_count": 22,
   "metadata": {},
   "outputs": [
    {
     "name": "stdout",
     "output_type": "stream",
     "text": [
      "learning done in 2.57 seconds\n"
     ]
    }
   ],
   "source": [
    "#default constructor\n",
    "## your job is to build a SVC classifier\n",
    "#learning\n",
    "time_start = time.perf_counter()\n",
    "## your job is to train your SVC classifier \n",
    "\n",
    "mySvc_mn = svm.SVC(kernel='linear', C=0.01 , decision_function_shape='ovo')\n",
    "#learning\n",
    "time_start = time.perf_counter()\n",
    "mySvc_mn.fit(x_trainBinaireLin , y_trainBinaire)\n",
    "\n",
    "\n",
    "time_elapsed = (time.perf_counter()-time_start)\n",
    "print(\"learning done in %.2f seconds\" %(time_elapsed))"
   ]
  },
  {
   "cell_type": "code",
   "execution_count": 23,
   "metadata": {
    "scrolled": true
   },
   "outputs": [
    {
     "name": "stdout",
     "output_type": "stream",
     "text": [
      "F1 score :  0.9927835051546392\n"
     ]
    },
    {
     "data": {
      "image/png": "[encoded data removed]",
      "text/plain": [
       "<Figure size 432x288 with 2 Axes>"
      ]
     },
     "metadata": {
      "needs_background": "light"
     },
     "output_type": "display_data"
    }
   ],
   "source": [
    "## compute the prediction of x_testBinaireLin using your learned classifier\n",
    "\n",
    "y_predBinaireTest = mySvc_mn.predict(x_testBinaireLin)\n",
    "\n",
    "disp = plot_confusion_matrix(mySvc_mn, x_testBinaireLin, y_testBinaire,\n",
    "                                 display_labels=[nameClass1,nameClass2],\n",
    "                                 cmap=plt.cm.Blues,\n",
    "                                 normalize=None)\n",
    "disp.ax_.set_title('Confusion matrix')\n",
    "print(\"F1 score : \", f1_score(y_predBinaireTest,y_testBinaire))"
   ]
  },
  {
   "cell_type": "markdown",
   "metadata": {},
   "source": [
    "Same question as for the Iris dataset: can you improve the results by tuning hyper-parameters or changing the kernel ?"
   ]
  },
  {
   "cell_type": "markdown",
   "metadata": {},
   "source": [
    "## The whole dataset with the 10 classes"
   ]
  },
  {
   "cell_type": "code",
   "execution_count": 24,
   "metadata": {
    "ExecuteTime": {
     "end_time": "2021-10-26T14:03:24.824493Z",
     "start_time": "2021-10-26T14:03:24.815367Z"
    }
   },
   "outputs": [],
   "source": [
    "# your turn!\n",
    "# reshaping the data (a 2d image is transformed to a 1d array)\n",
    "#train\n",
    "n = x_train.shape[0]\n",
    "x_trainLin = x_train.reshape(n,-1)\n",
    "#test\n",
    "n = x_test.shape[0]\n",
    "x_testLin = x_test.reshape(n,-1)"
   ]
  },
  {
   "cell_type": "code",
   "execution_count": 25,
   "metadata": {
    "ExecuteTime": {
     "end_time": "2021-10-26T14:26:12.474626Z",
     "start_time": "2021-10-26T14:19:19.480629Z"
    }
   },
   "outputs": [
    {
     "name": "stdout",
     "output_type": "stream",
     "text": [
      "learning done in 174.65 seconds\n"
     ]
    }
   ],
   "source": [
    "#default constructor\n",
    "### your job is ....\n",
    "mysvc = svm.SVC(kernel='linear', C=1)#,decision_function_shape='ovr')\n",
    "#learning\n",
    "time_start = time.perf_counter()\n",
    "### your job is ...\n",
    "mysvc.fit(x_trainLin, y_train)\n",
    "time_elapsed = (time.perf_counter()-time_start)\n",
    "print(\"learning done in %.2f seconds\" %(time_elapsed))"
   ]
  },
  {
   "cell_type": "code",
   "execution_count": 26,
   "metadata": {
    "ExecuteTime": {
     "end_time": "2021-10-26T14:32:18.881441Z",
     "start_time": "2021-10-26T14:29:15.378865Z"
    }
   },
   "outputs": [
    {
     "name": "stdout",
     "output_type": "stream",
     "text": [
      "F1 score :  [0.96423174 0.97905759 0.9311507  0.9216545  0.94768612 0.90734463\n",
      " 0.95337873 0.94146581 0.91832461 0.93084301]\n"
     ]
    },
    {
     "data": {
      "image/png": "[encoded data removed]",
      "text/plain": [
       "<Figure size 432x288 with 2 Axes>"
      ]
     },
     "metadata": {
      "needs_background": "light"
     },
     "output_type": "display_data"
    }
   ],
   "source": [
    "y_predTest = mysvc.predict(x_testLin) ##theNameOfYourClassifier.predict(x_testLin)\n",
    "\n",
    "disp = plot_confusion_matrix(mysvc, x_testLin, y_test, ##theNameOfYourClassifier, x_testLin, y_test,\n",
    "                                 display_labels=['0','1','2','3','4','5','6', '7', '8', '9'],\n",
    "                                 cmap=plt.cm.Blues,\n",
    "                                 normalize=None)\n",
    "disp.ax_.set_title('Confusion matrix')\n",
    "print(\"F1 score : \", f1_score(y_predTest,y_test, average=None))"
   ]
  },
  {
   "cell_type": "code",
   "execution_count": null,
   "metadata": {
    "ExecuteTime": {
     "start_time": "2021-10-26T14:36:16.290Z"
    }
   },
   "outputs": [
    {
     "name": "stderr",
     "output_type": "stream",
     "text": [
      "C:\\Users\\hadik\\anaconda3\\lib\\site-packages\\sklearn\\metrics\\_classification.py:1248: UndefinedMetricWarning: Precision is ill-defined and being set to 0.0 in labels with no predicted samples. Use `zero_division` parameter to control this behavior.\n",
      "  _warn_prf(average, modifier, msg_start, len(result))\n",
      "C:\\Users\\hadik\\anaconda3\\lib\\site-packages\\sklearn\\metrics\\_classification.py:1248: UndefinedMetricWarning: Precision is ill-defined and being set to 0.0 in labels with no predicted samples. Use `zero_division` parameter to control this behavior.\n",
      "  _warn_prf(average, modifier, msg_start, len(result))\n",
      "C:\\Users\\hadik\\anaconda3\\lib\\site-packages\\sklearn\\metrics\\_classification.py:1248: UndefinedMetricWarning: Precision is ill-defined and being set to 0.0 in labels with no predicted samples. Use `zero_division` parameter to control this behavior.\n",
      "  _warn_prf(average, modifier, msg_start, len(result))\n",
      "C:\\Users\\hadik\\anaconda3\\lib\\site-packages\\sklearn\\metrics\\_classification.py:1248: UndefinedMetricWarning: Precision is ill-defined and being set to 0.0 in labels with no predicted samples. Use `zero_division` parameter to control this behavior.\n",
      "  _warn_prf(average, modifier, msg_start, len(result))\n",
      "C:\\Users\\hadik\\anaconda3\\lib\\site-packages\\sklearn\\metrics\\_classification.py:1248: UndefinedMetricWarning: Precision is ill-defined and being set to 0.0 in labels with no predicted samples. Use `zero_division` parameter to control this behavior.\n",
      "  _warn_prf(average, modifier, msg_start, len(result))\n",
      "C:\\Users\\hadik\\anaconda3\\lib\\site-packages\\sklearn\\metrics\\_classification.py:1248: UndefinedMetricWarning: Precision is ill-defined and being set to 0.0 in labels with no predicted samples. Use `zero_division` parameter to control this behavior.\n",
      "  _warn_prf(average, modifier, msg_start, len(result))\n",
      "C:\\Users\\hadik\\anaconda3\\lib\\site-packages\\sklearn\\metrics\\_classification.py:1248: UndefinedMetricWarning: Precision is ill-defined and being set to 0.0 in labels with no predicted samples. Use `zero_division` parameter to control this behavior.\n",
      "  _warn_prf(average, modifier, msg_start, len(result))\n",
      "C:\\Users\\hadik\\anaconda3\\lib\\site-packages\\sklearn\\metrics\\_classification.py:1248: UndefinedMetricWarning: Precision is ill-defined and being set to 0.0 in labels with no predicted samples. Use `zero_division` parameter to control this behavior.\n",
      "  _warn_prf(average, modifier, msg_start, len(result))\n",
      "C:\\Users\\hadik\\anaconda3\\lib\\site-packages\\sklearn\\metrics\\_classification.py:1248: UndefinedMetricWarning: Precision is ill-defined and being set to 0.0 in labels with no predicted samples. Use `zero_division` parameter to control this behavior.\n",
      "  _warn_prf(average, modifier, msg_start, len(result))\n",
      "C:\\Users\\hadik\\anaconda3\\lib\\site-packages\\sklearn\\metrics\\_classification.py:1248: UndefinedMetricWarning: Precision is ill-defined and being set to 0.0 in labels with no predicted samples. Use `zero_division` parameter to control this behavior.\n",
      "  _warn_prf(average, modifier, msg_start, len(result))\n",
      "C:\\Users\\hadik\\anaconda3\\lib\\site-packages\\sklearn\\metrics\\_classification.py:1248: UndefinedMetricWarning: Precision is ill-defined and being set to 0.0 in labels with no predicted samples. Use `zero_division` parameter to control this behavior.\n",
      "  _warn_prf(average, modifier, msg_start, len(result))\n",
      "C:\\Users\\hadik\\anaconda3\\lib\\site-packages\\sklearn\\metrics\\_classification.py:1248: UndefinedMetricWarning: Precision is ill-defined and being set to 0.0 in labels with no predicted samples. Use `zero_division` parameter to control this behavior.\n",
      "  _warn_prf(average, modifier, msg_start, len(result))\n",
      "C:\\Users\\hadik\\anaconda3\\lib\\site-packages\\sklearn\\metrics\\_classification.py:1248: UndefinedMetricWarning: Precision is ill-defined and being set to 0.0 in labels with no predicted samples. Use `zero_division` parameter to control this behavior.\n",
      "  _warn_prf(average, modifier, msg_start, len(result))\n",
      "C:\\Users\\hadik\\anaconda3\\lib\\site-packages\\sklearn\\metrics\\_classification.py:1248: UndefinedMetricWarning: Precision is ill-defined and being set to 0.0 in labels with no predicted samples. Use `zero_division` parameter to control this behavior.\n",
      "  _warn_prf(average, modifier, msg_start, len(result))\n",
      "C:\\Users\\hadik\\anaconda3\\lib\\site-packages\\sklearn\\metrics\\_classification.py:1248: UndefinedMetricWarning: Precision is ill-defined and being set to 0.0 in labels with no predicted samples. Use `zero_division` parameter to control this behavior.\n",
      "  _warn_prf(average, modifier, msg_start, len(result))\n"
     ]
    }
   ],
   "source": [
    "from sklearn.model_selection import GridSearchCV\n",
    "paramGrid = [\n",
    "{'C':[0.1, 0.2, 0.5, 1, 2, 5, 10], 'kernel':['linear']},\n",
    "{'C':[0.5, 1, 5, 10],'degree':[2,3],'coef0':[-1,0,1],'kernel':['poly']}\n",
    "]\n",
    "searchBestParams = GridSearchCV(svm.SVC(), paramGrid, scoring='precision_macro')\n",
    "searchBestParams.fit(x_trainLin, y_train)\n",
    "#searchBestParams\n",
    "means = searchBestParams.cv_results_['mean_test_score']\n",
    "stds = searchBestParams.cv_results_['std_test_score']\n",
    "for mean, std, params in zip(means, stds, searchBestParams.cv_results_['params']):\n",
    "    print(\"%0.3f (+/-%0.03f) for %r\" % (mean, std * 2, params))\n",
    "print()"
   ]
  },
  {
   "cell_type": "code",
   "execution_count": null,
   "metadata": {},
   "outputs": [],
   "source": [
    "# using the best set of parameters, learn the SVM classifier (whole train set)\n",
    "C = \n",
    "kernel = ''"
   ]
  },
  {
   "cell_type": "markdown",
   "metadata": {},
   "source": [
    "## Do you obtain the same results with FMNIST ? (fashion MNIST)"
   ]
  },
  {
   "cell_type": "code",
   "execution_count": null,
   "metadata": {},
   "outputs": [],
   "source": [
    "# your turn!"
   ]
  },
  {
   "cell_type": "markdown",
   "metadata": {},
   "source": [
    "## Active learning with SVM"
   ]
  },
  {
   "cell_type": "markdown",
   "metadata": {},
   "source": [
    "Start with few annoted data and iterate by asking new labelled data and re-learn SVM separation. Try different selection of new labelled data."
   ]
  },
  {
   "cell_type": "markdown",
   "metadata": {},
   "source": [
    "## Reduction of the dataset"
   ]
  },
  {
   "cell_type": "markdown",
   "metadata": {},
   "source": [
    "Suffle and divide the train dataset by 2 multiple time. For each division, learn a SVM classifier and test the performances."
   ]
  },
  {
   "cell_type": "markdown",
   "metadata": {},
   "source": [
    "## Classification of images"
   ]
  },
  {
   "cell_type": "markdown",
   "metadata": {},
   "source": [
    "Represent the images using a deep CNN and perform the classification using SVM. "
   ]
  },
  {
   "cell_type": "code",
   "execution_count": null,
   "metadata": {},
   "outputs": [],
   "source": []
  }
 ],
 "metadata": {
  "hide_input": false,
  "kernelspec": {
   "display_name": "Python 3 (ipykernel)",
   "language": "python",
   "name": "python3"
  },
  "language_info": {
   "codemirror_mode": {
    "name": "ipython",
    "version": 3
   },
   "file_extension": ".py",
   "mimetype": "text/x-python",
   "name": "python",
   "nbconvert_exporter": "python",
   "pygments_lexer": "ipython3",
   "version": "3.9.7"
  },
  "latex_envs": {
   "LaTeX_envs_menu_present": true,
   "autoclose": false,
   "autocomplete": true,
   "bibliofile": "biblio.bib",
   "cite_by": "apalike",
   "current_citInitial": 1,
   "eqLabelWithNumbers": true,
   "eqNumInitial": 1,
   "hotkeys": {
    "equation": "Ctrl-E",
    "itemize": "Ctrl-I"
   },
   "labels_anchors": false,
   "latex_user_defs": false,
   "report_style_numbering": false,
   "user_envs_cfg": false
  },
  "varInspector": {
   "cols": {
    "lenName": 16,
    "lenType": 16,
    "lenVar": 40
   },
   "kernels_config": {
    "python": {
     "delete_cmd_postfix": "",
     "delete_cmd_prefix": "del ",
     "library": "var_list.py",
     "varRefreshCmd": "print(var_dic_list())"
    },
    "r": {
     "delete_cmd_postfix": ") ",
     "delete_cmd_prefix": "rm(",
     "library": "var_list.r",
     "varRefreshCmd": "cat(var_dic_list()) "
    }
   },
   "types_to_exclude": [
    "module",
    "function",
    "builtin_function_or_method",
    "instance",
    "_Feature"
   ],
   "window_display": false
  }
 },
 "nbformat": 4,
 "nbformat_minor": 2
}
