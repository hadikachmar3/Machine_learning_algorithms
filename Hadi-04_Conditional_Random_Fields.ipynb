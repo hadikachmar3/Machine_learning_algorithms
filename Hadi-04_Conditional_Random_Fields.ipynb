{
  "cells": [
    {
      "cell_type": "code",
      "execution_count": null,
      "id": "wanted-building",
      "metadata": {
        "id": "wanted-building"
      },
      "outputs": [],
      "source": [
        "import matplotlib.pyplot as plt"
      ]
    },
    {
      "cell_type": "code",
      "execution_count": null,
      "id": "23b38afd",
      "metadata": {
        "id": "23b38afd"
      },
      "outputs": [],
      "source": [
        "# !pip3 install -U scikit-learn scipy matplotlib\n",
        "# !install -c conda-forge python-crfsuite\n",
        "# !pip install sklearn_crfsuite\n",
        "# from google.colab import files\n",
        "# uploaded = files.upload()"
      ]
    },
    {
      "cell_type": "code",
      "execution_count": null,
      "id": "demonstrated-passion",
      "metadata": {
        "id": "demonstrated-passion"
      },
      "outputs": [],
      "source": [
        "from itertools import chain\n",
        "\n",
        "import nltk\n",
        "import sklearn\n",
        "import scipy.stats\n",
        "from sklearn.metrics import make_scorer\n",
        "from sklearn.model_selection import cross_val_score\n",
        "from sklearn.model_selection import RandomizedSearchCV\n",
        "\n",
        "import sklearn_crfsuite\n",
        "from sklearn_crfsuite import scorers\n",
        "from sklearn_crfsuite import metrics"
      ]
    },
    {
      "cell_type": "markdown",
      "id": "traditional-fisher",
      "metadata": {
        "id": "traditional-fisher"
      },
      "source": [
        "A simple sentence NER example:\n",
        "\n",
        "[**ORG** U.N. ] official [**PER** Ekeus ] heads for [**LOC** Baghdad ] \n",
        "\n",
        "We will concentrate on four types of named entities:\n",
        " * persons (**PER**), \n",
        " * locations (**LOC**) \n",
        " * organizations (**ORG**)\n",
        " * Others (**O**)"
      ]
    },
    {
      "cell_type": "code",
      "execution_count": null,
      "id": "innovative-aberdeen",
      "metadata": {
        "id": "innovative-aberdeen"
      },
      "outputs": [],
      "source": [
        "def _generate_examples(filepath):\n",
        "        with open(filepath, encoding=\"utf-8\") as f:\n",
        "            sent = []\n",
        "            for line in f:\n",
        "                if line.startswith(\"-DOCSTART-\") or line == \"\" or line == \"\\n\":\n",
        "                    if sent:\n",
        "                        yield sent\n",
        "                        sent = []\n",
        "                else:\n",
        "                    splits = line.split(\" \")\n",
        "                    token = splits[0]\n",
        "                    pos_tag = splits[1]\n",
        "                    ner_tag = splits[3].rstrip()\n",
        "                    if 'MISC' in ner_tag:\n",
        "                        ner_tag = 'O'\n",
        "                    \n",
        "                    sent.append((token, pos_tag, ner_tag))"
      ]
    },
    {
      "cell_type": "code",
      "execution_count": null,
      "id": "capital-stopping",
      "metadata": {
        "id": "capital-stopping"
      },
      "outputs": [],
      "source": [
        "# %%time \n",
        "# hint use the above defined function\n",
        "train_sents = list(_generate_examples('train.txt'))\n",
        "test_sents = list(_generate_examples('test.txt'))\n"
      ]
    },
    {
      "cell_type": "code",
      "execution_count": null,
      "id": "acquired-oxide",
      "metadata": {
        "id": "acquired-oxide"
      },
      "outputs": [],
      "source": [
        "def word2features(sent, i):\n",
        "    word = sent[i][0]\n",
        "    postag = sent[i][1]\n",
        "\n",
        "    features = {\n",
        "        'bias': 1.0,\n",
        "        'word.lower()': word.lower(),\n",
        "        'postag': postag,\n",
        "    }\n",
        "    \n",
        "    if i > 0:\n",
        "        word1 = sent[i-1][0]\n",
        "        postag1 = sent[i-1][1]\n",
        "        features.update({\n",
        "            '-1:word.lower()': word1.lower(),\n",
        "            '-1:postag': postag1,\n",
        "        })\n",
        "    else:\n",
        "        features['BOS'] = True\n",
        "    return features"
      ]
    },
    {
      "cell_type": "code",
      "execution_count": null,
      "id": "minimal-student",
      "metadata": {
        "id": "minimal-student",
        "outputId": "0692346b-212b-4351-dceb-054d8c815f77",
        "colab": {
          "base_uri": "https://localhost:8080/"
        }
      },
      "outputs": [
        {
          "output_type": "execute_result",
          "data": {
            "text/plain": [
              "[('United', 'NNP', 'B-LOC'),\n",
              " ('Arab', 'NNP', 'I-LOC'),\n",
              " ('Emirates', 'NNPS', 'I-LOC'),\n",
              " ('1996-12-06', 'CD', 'O')]"
            ]
          },
          "metadata": {},
          "execution_count": 41
        }
      ],
      "source": [
        "test_sents[2]"
      ]
    },
    {
      "cell_type": "code",
      "execution_count": null,
      "id": "acquired-robertson",
      "metadata": {
        "id": "acquired-robertson",
        "outputId": "78c2acc4-1374-4170-ece9-f7650badc3aa",
        "colab": {
          "base_uri": "https://localhost:8080/"
        }
      },
      "outputs": [
        {
          "output_type": "execute_result",
          "data": {
            "text/plain": [
              "{'BOS': True, 'bias': 1.0, 'postag': 'NNP', 'word.lower()': 'united'}"
            ]
          },
          "metadata": {},
          "execution_count": 42
        }
      ],
      "source": [
        "word2features(test_sents[2],0)"
      ]
    },
    {
      "cell_type": "code",
      "execution_count": null,
      "id": "addressed-showcase",
      "metadata": {
        "id": "addressed-showcase"
      },
      "outputs": [],
      "source": [
        "def sent2features(sent):\n",
        "    return [word2features(sent, i) for i in range(len(sent))]\n",
        "\n",
        "def sent2labels(sent):\n",
        "    return [label for token, postag, label in sent]\n",
        "\n",
        "def sent2tokens(sent):\n",
        "    return [token for token, postag, label in sent]"
      ]
    },
    {
      "cell_type": "code",
      "execution_count": null,
      "id": "completed-contribution",
      "metadata": {
        "id": "completed-contribution",
        "outputId": "b570c158-acfc-4fb5-c558-2cfe98b6f05c",
        "colab": {
          "base_uri": "https://localhost:8080/"
        }
      },
      "outputs": [
        {
          "output_type": "stream",
          "name": "stdout",
          "text": [
            "CPU times: user 326 ms, sys: 25.2 ms, total: 351 ms\n",
            "Wall time: 360 ms\n"
          ]
        }
      ],
      "source": [
        "%%time\n",
        "X_train = [sent2features(s) for s in train_sents]\n",
        "y_train = [sent2labels(s) for s in train_sents]\n",
        "\n",
        "X_test =  [sent2features(s) for s in test_sents]\n",
        "y_test = [sent2labels(s) for s in test_sents]\n"
      ]
    },
    {
      "cell_type": "code",
      "execution_count": null,
      "id": "included-fishing",
      "metadata": {
        "id": "included-fishing",
        "outputId": "9c7cf0c2-627a-4a08-b528-3509ca91bf3e",
        "colab": {
          "base_uri": "https://localhost:8080/"
        }
      },
      "outputs": [
        {
          "output_type": "stream",
          "name": "stderr",
          "text": [
            "/usr/local/lib/python3.7/dist-packages/sklearn/base.py:213: FutureWarning: From version 0.24, get_params will raise an AttributeError if a parameter cannot be retrieved as an instance attribute. Previously it would return None.\n",
            "  FutureWarning)\n"
          ]
        },
        {
          "output_type": "execute_result",
          "data": {
            "text/plain": [
              "CRF(algorithm='lbfgs', all_possible_transitions=True, c1=0.1, c2=0.1,\n",
              "    keep_tempfiles=None, max_iterations=100)"
            ]
          },
          "metadata": {},
          "execution_count": 57
        }
      ],
      "source": [
        "# %%time \n",
        "#search for sklearn_crfsuite.CRF, use the lbfgs algorithm, c parameters should be 0.1 and max iterations 100, all possible transactions true\n",
        "# !pip install -U 'scikit-learn<0.24'\n",
        "   \n",
        "crf = sklearn_crfsuite.CRF(\n",
        "    algorithm='lbfgs',\n",
        "    c1=0.1,\n",
        "    c2=0.1,\n",
        "    max_iterations=100,\n",
        "    all_possible_transitions=True\n",
        ")\n",
        "# # fit the model\n",
        "crf.fit(X_train, y_train)"
      ]
    },
    {
      "cell_type": "code",
      "execution_count": null,
      "id": "scientific-armstrong",
      "metadata": {
        "id": "scientific-armstrong"
      },
      "outputs": [],
      "source": [
        "# save a list of all labels in your model, hint crfs have a classes attribute\n",
        "\n",
        "labels = list(crf.classes_)\n"
      ]
    },
    {
      "cell_type": "code",
      "execution_count": null,
      "id": "laughing-guest",
      "metadata": {
        "id": "laughing-guest",
        "outputId": "a014b767-8de3-410c-c30b-c5a9ece97bc5",
        "colab": {
          "base_uri": "https://localhost:8080/"
        }
      },
      "outputs": [
        {
          "output_type": "execute_result",
          "data": {
            "text/plain": [
              "['B-ORG', 'O', 'B-PER', 'I-PER', 'B-LOC', 'I-ORG', 'I-LOC']"
            ]
          },
          "metadata": {},
          "execution_count": 59
        }
      ],
      "source": [
        "labels"
      ]
    },
    {
      "cell_type": "code",
      "execution_count": null,
      "id": "hidden-camera",
      "metadata": {
        "id": "hidden-camera",
        "colab": {
          "base_uri": "https://localhost:8080/"
        },
        "outputId": "54b67a3f-0265-45be-8977-cc8caa06c40b"
      },
      "outputs": [
        {
          "output_type": "execute_result",
          "data": {
            "text/plain": [
              "['B-ORG', 'B-PER', 'I-PER', 'B-LOC', 'I-ORG', 'I-LOC']"
            ]
          },
          "metadata": {},
          "execution_count": 60
        }
      ],
      "source": [
        "#remove the label 'O' from your list\n",
        "labels.remove('O')\n",
        "labels"
      ]
    },
    {
      "cell_type": "code",
      "execution_count": null,
      "id": "familiar-bridge",
      "metadata": {
        "id": "familiar-bridge",
        "outputId": "8124547a-ca5d-44bd-e9e5-883579d42292",
        "colab": {
          "base_uri": "https://localhost:8080/"
        }
      },
      "outputs": [
        {
          "output_type": "execute_result",
          "data": {
            "text/plain": [
              "0.7757476721426669"
            ]
          },
          "metadata": {},
          "execution_count": 61
        }
      ],
      "source": [
        "#perfrom a prediction on your test set\n",
        "y_pred =  crf.predict(X_test)\n",
        "\n",
        "metrics.flat_f1_score(y_test, y_pred,\n",
        "                      average='weighted', labels=labels)"
      ]
    },
    {
      "cell_type": "code",
      "execution_count": null,
      "id": "central-privacy",
      "metadata": {
        "id": "central-privacy"
      },
      "outputs": [],
      "source": [
        "# group B and I results, use the sorted function on the list labels with a lambda function as the key\n",
        "sorted_labels =  sorted(\n",
        "    labels,\n",
        "    key=lambda name: (name[1:], name[0])\n",
        ")"
      ]
    },
    {
      "cell_type": "code",
      "execution_count": null,
      "id": "opened-death",
      "metadata": {
        "id": "opened-death",
        "outputId": "b671a861-acba-4a93-fdcb-0dd1bcbd81ff",
        "colab": {
          "base_uri": "https://localhost:8080/"
        }
      },
      "outputs": [
        {
          "output_type": "stream",
          "name": "stderr",
          "text": [
            "/usr/local/lib/python3.7/dist-packages/sklearn/utils/validation.py:70: FutureWarning: Pass labels=['B-LOC', 'I-LOC', 'B-ORG', 'I-ORG', 'B-PER', 'I-PER'] as keyword args. From version 0.25 passing these as positional arguments will result in an error\n",
            "  FutureWarning)\n"
          ]
        },
        {
          "output_type": "stream",
          "name": "stdout",
          "text": [
            "              precision    recall  f1-score   support\n",
            "\n",
            "       B-LOC      0.849     0.825     0.837      1667\n",
            "       I-LOC      0.767     0.716     0.740       257\n",
            "       B-ORG      0.735     0.637     0.682      1660\n",
            "       I-ORG      0.616     0.721     0.664       834\n",
            "       B-PER      0.837     0.764     0.799      1615\n",
            "       I-PER      0.832     0.931     0.878      1156\n",
            "\n",
            "   micro avg      0.785     0.769     0.777      7189\n",
            "   macro avg      0.772     0.766     0.767      7189\n",
            "weighted avg      0.787     0.769     0.776      7189\n",
            "\n"
          ]
        }
      ],
      "source": [
        "print(metrics.flat_classification_report(\n",
        "    y_test, y_pred, labels=sorted_labels, digits=3\n",
        "))"
      ]
    },
    {
      "cell_type": "code",
      "execution_count": null,
      "id": "protected-bracket",
      "metadata": {
        "id": "protected-bracket",
        "outputId": "fbd9586b-2560-4aa2-c122-37de4ebcacdf",
        "colab": {
          "base_uri": "https://localhost:8080/"
        }
      },
      "outputs": [
        {
          "output_type": "execute_result",
          "data": {
            "text/plain": [
              "49"
            ]
          },
          "metadata": {},
          "execution_count": 64
        }
      ],
      "source": [
        "# what is the number of transition features in our model, crfs have an attribute called transition_features_\n",
        "len(crf.transition_features_)"
      ]
    },
    {
      "cell_type": "code",
      "execution_count": null,
      "id": "together-evening",
      "metadata": {
        "id": "together-evening",
        "outputId": "45934e72-e43f-40b8-df54-6558eef06b5f",
        "colab": {
          "base_uri": "https://localhost:8080/"
        }
      },
      "outputs": [
        {
          "output_type": "stream",
          "name": "stdout",
          "text": [
            "Top likely transitions:\n",
            "B-PER  -> I-PER   6.591492\n",
            "B-ORG  -> I-ORG   6.306534\n",
            "I-ORG  -> I-ORG   5.540077\n",
            "B-LOC  -> I-LOC   4.839887\n",
            "I-LOC  -> I-LOC   3.758774\n",
            "I-PER  -> I-PER   3.394919\n",
            "O      -> B-PER   1.960743\n",
            "O      -> O       1.369676\n",
            "B-ORG  -> O       0.950664\n",
            "O      -> B-LOC   0.919982\n",
            "B-LOC  -> O       0.612921\n",
            "B-PER  -> O       0.557646\n",
            "O      -> B-ORG   0.515605\n",
            "I-PER  -> O       0.393510\n",
            "I-ORG  -> O       0.328486\n",
            "I-LOC  -> O       -0.305074\n",
            "B-ORG  -> B-ORG   -0.984217\n",
            "B-LOC  -> B-LOC   -0.990422\n",
            "I-LOC  -> B-LOC   -1.291094\n",
            "B-PER  -> B-LOC   -1.315197\n",
            "\n",
            "Top unlikely transitions:\n"
          ]
        }
      ],
      "source": [
        "from collections import Counter\n",
        "\n",
        "def print_transitions(trans_features):\n",
        "    for (label_from, label_to), weight in trans_features:\n",
        "        print(\"%-6s -> %-7s %0.6f\" % (label_from, label_to, weight))\n",
        "\n",
        "print(\"Top likely transitions:\")\n",
        "print_transitions(Counter(crf.transition_features_).most_common(20))\n",
        "\n",
        "#list the top 20 unlikely transitions\n",
        "print(\"\\nTop unlikely transitions:\")\n"
      ]
    },
    {
      "cell_type": "code",
      "execution_count": null,
      "id": "retained-calcium",
      "metadata": {
        "id": "retained-calcium",
        "outputId": "8136a81c-8995-41e7-8a9f-eab2ce35d91f",
        "colab": {
          "base_uri": "https://localhost:8080/"
        }
      },
      "outputs": [
        {
          "output_type": "execute_result",
          "data": {
            "text/plain": [
              "16044"
            ]
          },
          "metadata": {},
          "execution_count": 68
        }
      ],
      "source": [
        "# what is the number of transition features in our model, crfs have an attribute called state_features_\n",
        "len(crf.state_features_)"
      ]
    },
    {
      "cell_type": "code",
      "execution_count": null,
      "id": "offshore-mitchell",
      "metadata": {
        "id": "offshore-mitchell",
        "outputId": "a9aa40d8-6d1d-4267-af70-bdce8eb42e87",
        "colab": {
          "base_uri": "https://localhost:8080/"
        }
      },
      "outputs": [
        {
          "output_type": "stream",
          "name": "stdout",
          "text": [
            "Top positive:\n",
            "8.307293 I-LOC    word.lower():oval\n",
            "8.088441 B-LOC    word.lower():m3\n",
            "7.751193 B-ORG    word.lower():footscray\n",
            "7.001409 B-ORG    word.lower():osce\n",
            "6.964246 B-PER    word.lower():lebed\n",
            "6.609227 B-LOC    word.lower():amsterdam\n",
            "6.556081 B-LOC    word.lower():bonn\n",
            "6.543649 B-LOC    word.lower():beijing\n",
            "6.516252 B-LOC    word.lower():mideast\n",
            "6.514129 B-ORG    word.lower():adelaide\n",
            "6.341000 B-LOC    word.lower():balkans\n",
            "6.296972 B-LOC    word.lower():med\n",
            "6.293931 B-LOC    word.lower():stansted\n",
            "6.251496 O        word.lower():to\n",
            "6.164668 O        word.lower():division\n",
            "6.109046 B-LOC    word.lower():vatican\n",
            "6.065353 B-LOC    word.lower():johannesburg\n",
            "6.051745 B-PER    word.lower():stenning\n",
            "6.033868 B-LOC    word.lower():england\n",
            "6.013143 B-PER    word.lower():clinton\n",
            "5.989218 B-PER    word.lower():chang\n",
            "5.986145 B-LOC    word.lower():pakistan\n",
            "5.979900 B-LOC    word.lower():mt\n",
            "5.896624 B-PER    word.lower():fogarty\n",
            "5.840211 B-LOC    word.lower():moscow\n",
            "5.801627 B-ORG    word.lower():u.n.\n",
            "5.759773 B-LOC    word.lower():seoul\n",
            "5.753325 B-LOC    word.lower():iraq\n",
            "5.746310 I-ORG    word.lower():newsroom\n",
            "5.683387 B-LOC    word.lower():beirut\n",
            "\n",
            "Top negative:\n",
            "-1.924981 O        -1:word.lower():colleague\n",
            "-1.934276 O        -1:word.lower():cooperation\n",
            "-1.968579 O        -1:word.lower():later\n",
            "-1.976188 I-PER    postag:VBD\n",
            "-1.990570 B-ORG    word.lower():african\n",
            "-2.034884 O        -1:word.lower():arkansas\n",
            "-2.062987 O        -1:word.lower():breaking\n",
            "-2.071485 O        word.lower():31\n",
            "-2.076839 O        -1:word.lower():p\n",
            "-2.078149 O        -1:word.lower():diario\n",
            "-2.088915 B-PER    -1:postag:PRP$\n",
            "-2.092937 O        -1:word.lower():n\n",
            "-2.116170 B-PER    -1:word.lower():/\n",
            "-2.161106 O        -1:word.lower():past\n",
            "-2.190894 O        -1:word.lower():saint\n",
            "-2.247559 O        word.lower():ours\n",
            "-2.283222 O        -1:word.lower():cdu\n",
            "-2.296212 O        -1:word.lower():awami\n",
            "-2.321810 O        word.lower():nice\n",
            "-2.397402 O        postag:TO\n",
            "-2.493048 I-PER    bias\n",
            "-2.527634 O        -1:word.lower():buducnost\n",
            "-2.562613 O        word.lower():leeds\n",
            "-2.587832 O        -1:word.lower():moody\n",
            "-2.649809 O        -1:word.lower():queen\n",
            "-3.216858 O        -1:word.lower():st\n",
            "-3.240531 O        postag:NNPS\n",
            "-3.343803 O        -1:word.lower():beat\n",
            "-3.924442 O        postag:NNP\n",
            "-4.085484 O        -1:word.lower():lloyd\n"
          ]
        }
      ],
      "source": [
        "def print_state_features(state_features):\n",
        "    for (attr, label), weight in state_features:\n",
        "        print(\"%0.6f %-8s %s\" % (weight, label, attr))\n",
        "\n",
        "#list the top 30 positive\n",
        "print(\"Top positive:\")\n",
        "print_state_features(Counter(crf.state_features_).most_common(30))\n",
        "\n",
        "#list the top 30 negative\n",
        "print(\"\\nTop negative:\")\n",
        "print_state_features(Counter(crf.state_features_).most_common()[-30:])"
      ]
    }
  ],
  "metadata": {
    "colab": {
      "name": "04-Conditional Random Fields.ipynb",
      "provenance": [],
      "collapsed_sections": []
    },
    "kernelspec": {
      "display_name": "Python 3 (ipykernel)",
      "language": "python",
      "name": "python3"
    },
    "language_info": {
      "codemirror_mode": {
        "name": "ipython",
        "version": 3
      },
      "file_extension": ".py",
      "mimetype": "text/x-python",
      "name": "python",
      "nbconvert_exporter": "python",
      "pygments_lexer": "ipython3",
      "version": "3.9.7"
    }
  },
  "nbformat": 4,
  "nbformat_minor": 5
}